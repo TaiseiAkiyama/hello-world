{
 "cells": [
  {
   "cell_type": "code",
   "execution_count": 28,
   "metadata": {},
   "outputs": [],
   "source": [
    "import numpy as np \n",
    "import pandas as pd \n",
    "from sklearn.svm import SVC\n",
    "from sklearn.model_selection import train_test_split # ホールドアウト法に関する関数\n",
    "from sklearn.model_selection import KFold # 交差検証法に関する関数\n",
    "from sklearn.metrics import mean_absolute_error # 回帰問題における性能評価に関する関数\n",
    "from sklearn.linear_model import LinearRegression"
   ]
  },
  {
   "cell_type": "code",
   "execution_count": 29,
   "metadata": {},
   "outputs": [],
   "source": [
    "%matplotlib inline\n",
    "#import pandas as pd\n",
    "#import numpy as np\n",
    "import matplotlib.pyplot as plt\n",
    "\n",
    "import seaborn as sns\n",
    "from mpl_toolkits.mplot3d import Axes3D #3D散布図の描画\n",
    "\n",
    "# lib model\n",
    "from sklearn.linear_model import SGDClassifier\n",
    "from sklearn.metrics import log_loss, accuracy_score, confusion_matrix, precision_recall_fscore_support\n",
    "\n",
    "# lib 前処理\n",
    "from sklearn.model_selection import train_test_split # ホールドアウト法に関する関数\n",
    "from sklearn.model_selection import KFold # 交差検証法に関する関数\n",
    "from sklearn.decomposition import PCA\n",
    "from sklearn.preprocessing import StandardScaler"
   ]
  },
  {
   "cell_type": "code",
   "execution_count": 30,
   "metadata": {},
   "outputs": [],
   "source": [
    "df = pd.read_csv(r\"C:/Users/N388/Desktop/kickstarter-projects (1)/ks-projects-201801.csv\")"
   ]
  },
  {
   "cell_type": "code",
   "execution_count": 31,
   "metadata": {},
   "outputs": [],
   "source": [
    "#データをランダムに抽出(元データが大きすぎるため)\n",
    "df=df.sample(frac=0.1,random_state=1234)"
   ]
  },
  {
   "cell_type": "code",
   "execution_count": 32,
   "metadata": {},
   "outputs": [],
   "source": [
    "#欠損値削除\n",
    "df= df.dropna(how='any')"
   ]
  },
  {
   "cell_type": "code",
   "execution_count": 33,
   "metadata": {},
   "outputs": [],
   "source": [
    "y_col = 'state'\n",
    "\n",
    "x_cols = ['category','main_category','currency','country']\n",
    "\n",
    "#説明変数を、ダミー変数にする\n",
    "X = pd.get_dummies(df[x_cols])#drop_first=True\n",
    "\n",
    "#目的変数を successfulのフラグに変更\n",
    "y = pd.get_dummies(df[y_col])['successful']"
   ]
  },
  {
   "cell_type": "code",
   "execution_count": 34,
   "metadata": {},
   "outputs": [],
   "source": [
    "# 全データのうち、20%をテストデータにする\n",
    "test_size = 0.2\n",
    "\n",
    "# データを分割（テストデータはランダム選択）\n",
    "X_train, X_test, y_train, y_test = train_test_split(X, y, test_size=test_size, random_state=1234) "
   ]
  },
  {
   "cell_type": "code",
   "execution_count": 35,
   "metadata": {},
   "outputs": [
    {
     "data": {
      "text/plain": [
       "SGDClassifier(alpha=0.0001, average=False, class_weight=None,\n",
       "              early_stopping=False, epsilon=0.1, eta0=0.0, fit_intercept=True,\n",
       "              l1_ratio=0.15, learning_rate='optimal', loss='log', max_iter=100,\n",
       "              n_iter_no_change=5, n_jobs=None, penalty='none', power_t=0.5,\n",
       "              random_state=1234, shuffle=True, tol=0.001,\n",
       "              validation_fraction=0.1, verbose=0, warm_start=False)"
      ]
     },
     "execution_count": 35,
     "metadata": {},
     "output_type": "execute_result"
    }
   ],
   "source": [
    "#ロジスティック回帰  \n",
    "clf = SGDClassifier(loss='log', penalty='none', max_iter=100, fit_intercept=True, random_state=1234)\n",
    "\n",
    "#clf.fit(X_test, y_test) 使わない\n",
    "clf.fit(X_train, y_train)"
   ]
  },
  {
   "cell_type": "code",
   "execution_count": 36,
   "metadata": {},
   "outputs": [
    {
     "name": "stdout",
     "output_type": "stream",
     "text": [
      "対数尤度 = -11.187\n",
      "正答率 = 67.610%\n"
     ]
    }
   ],
   "source": [
    "# ラベルを予測\n",
    "y_est = clf.predict(X)\n",
    "\n",
    "# 対数尤度\n",
    "print('対数尤度 = {:.3f}'.format(- log_loss(y, y_est)))\n",
    "\n",
    "# 正答率\n",
    "print('正答率 = {:.3f}%'.format(100 * accuracy_score(y, y_est)))"
   ]
  },
  {
   "cell_type": "code",
   "execution_count": 37,
   "metadata": {},
   "outputs": [
    {
     "name": "stdout",
     "output_type": "stream",
     "text": [
      "8555 3591\n",
      "20515 4838\n",
      "Accuracy  = 67.610%\n",
      "Recall    = 36.123%\n",
      "Precision = 57.397%\n"
     ]
    }
   ],
   "source": [
    "#混同行列を作成\n",
    "tn, fp, fn, tp = confusion_matrix(y, y_est).ravel()\n",
    "print(fn, fp)\n",
    "print(tn, tp)\n",
    "\n",
    "#'Accuracy、Recall、Precisionを求めて表示\n",
    "print('Accuracy  = {:.3f}%'.format(100 * (tn+tp)/(tn+fp+fn+tp)))\n",
    "print('Recall    = {:.3f}%'.format(100 * (tp)/(fn+tp)))\n",
    "print('Precision = {:.3f}%'.format(100 * (tp)/(fp+tp))) "
   ]
  },
  {
   "cell_type": "code",
   "execution_count": 38,
   "metadata": {},
   "outputs": [
    {
     "name": "stdout",
     "output_type": "stream",
     "text": [
      "MAE = 58.271\n",
      "\n"
     ]
    }
   ],
   "source": [
    "mae = mean_absolute_error(y, y_est)\n",
    "print(\"MAE = %s\"%round(mae, 3))#roundで少数点以下を制御\n",
    "print()"
   ]
  },
  {
   "cell_type": "code",
   "execution_count": 39,
   "metadata": {},
   "outputs": [],
   "source": [
    "#############クロスバリデーション#############"
   ]
  },
  {
   "cell_type": "code",
   "execution_count": 40,
   "metadata": {},
   "outputs": [],
   "source": [
    "#ダミー変数に変換したX,yの要素を取得\n",
    "X = X.values\n",
    "y = y.values"
   ]
  },
  {
   "cell_type": "code",
   "execution_count": 41,
   "metadata": {},
   "outputs": [],
   "source": [
    "# X = X.reshape(-1,1) # scikit-learnに入力するために整形\n",
    "n_split = 5 # グループ数を設定（今回は5分割）"
   ]
  },
  {
   "cell_type": "code",
   "execution_count": 42,
   "metadata": {},
   "outputs": [
    {
     "data": {
      "text/plain": [
       "array([[0, 0, 0, ..., 0, 0, 1],\n",
       "       [0, 0, 0, ..., 0, 0, 1],\n",
       "       [0, 0, 0, ..., 0, 0, 1],\n",
       "       ...,\n",
       "       [0, 0, 0, ..., 0, 0, 1],\n",
       "       [0, 0, 0, ..., 0, 0, 1],\n",
       "       [0, 0, 0, ..., 0, 0, 0]], dtype=uint8)"
      ]
     },
     "execution_count": 42,
     "metadata": {},
     "output_type": "execute_result"
    }
   ],
   "source": [
    "X"
   ]
  },
  {
   "cell_type": "code",
   "execution_count": 43,
   "metadata": {},
   "outputs": [],
   "source": [
    "cross_valid_mae = 0\n",
    "split_num = 1"
   ]
  },
  {
   "cell_type": "code",
   "execution_count": 44,
   "metadata": {},
   "outputs": [
    {
     "name": "stdout",
     "output_type": "stream",
     "text": [
      "Fold 1\n",
      "MAE = 1605592711.362\n",
      "\n",
      "Fold 2\n",
      "MAE = 0.417\n",
      "\n",
      "Fold 3\n",
      "MAE = 0.416\n",
      "\n",
      "Fold 4\n",
      "MAE = 0.419\n",
      "\n",
      "Fold 5\n",
      "MAE = 0.418\n",
      "\n",
      "Cross Validation MAE = 321118542.606\n"
     ]
    }
   ],
   "source": [
    "# テスト役を交代させながら学習と評価を繰り返す #KFoldに注意\n",
    "for train_idx, test_idx in KFold(n_splits=n_split, shuffle=True, random_state=1234).split(X, y):#Kfold インデックスを生成する\n",
    "    X_train, y_train = X[train_idx], y[train_idx] #学習用データ\n",
    "    X_test, y_test = X[test_idx], y[test_idx]     #テスト用データ\n",
    "    \n",
    "    # 学習用データを使って線形回帰モデルを学習\n",
    "    regr = LinearRegression(fit_intercept=True)\n",
    "    regr.fit(X_train, y_train)\n",
    "\n",
    "    # テストデータに対する予測を実行\n",
    "    y_pred_test = regr.predict(X_test)\n",
    "    \n",
    "    # テストデータに対するMAEを計算\n",
    "    mae = mean_absolute_error(y_test, y_pred_test)\n",
    "    print(\"Fold %s\"%split_num)\n",
    "    print(\"MAE = %s\"%round(mae, 3))#roundで少数点以下を制御\n",
    "    print()\n",
    "    \n",
    "    cross_valid_mae += mae #後で平均を取るためにMAEを加算\n",
    "    split_num += 1\n",
    "\n",
    "# MAEの平均値を最終的な汎化誤差値とする\n",
    "final_mae = cross_valid_mae / n_split #n_slit=5=グループ数\n",
    "print(\"Cross Validation MAE = %s\"%round(final_mae, 3))"
   ]
  },
  {
   "cell_type": "code",
   "execution_count": 45,
   "metadata": {},
   "outputs": [],
   "source": [
    "#############   SVM   ##############"
   ]
  },
  {
   "cell_type": "code",
   "execution_count": 46,
   "metadata": {},
   "outputs": [],
   "source": [
    "from sklearn.svm import SVC\n",
    "from sklearn.preprocessing import StandardScaler\n",
    "from sklearn.model_selection import train_test_split, GridSearchCV\n",
    "#from common_func import plot_decision_regions\n",
    "import seaborn as sns"
   ]
  },
  {
   "cell_type": "code",
   "execution_count": 47,
   "metadata": {},
   "outputs": [
    {
     "name": "stdout",
     "output_type": "stream",
     "text": [
      "識別精度= 0.6714228563808508\n"
     ]
    }
   ],
   "source": [
    "# SVMの実行\n",
    "C = 1\n",
    "kernel = \"rbf\"#ガウスカーネル\n",
    "gamma = 1\n",
    "clf = SVC(C=C, kernel=kernel, gamma=gamma)\n",
    "clf.fit(X_train, y_train)\n",
    "\n",
    "print(\"識別精度=\",clf.score(X_test, y_test))\n"
   ]
  },
  {
   "cell_type": "code",
   "execution_count": 48,
   "metadata": {},
   "outputs": [],
   "source": [
    "#####正則化#####"
   ]
  },
  {
   "cell_type": "code",
   "execution_count": 49,
   "metadata": {},
   "outputs": [],
   "source": [
    "from sklearn.feature_selection import SelectFromModel\n",
    "from sklearn.linear_model import LassoCV"
   ]
  },
  {
   "cell_type": "code",
   "execution_count": 50,
   "metadata": {},
   "outputs": [
    {
     "name": "stderr",
     "output_type": "stream",
     "text": [
      "C:\\Users\\N388\\Anaconda3\\lib\\site-packages\\sklearn\\linear_model\\coordinate_descent.py:471: ConvergenceWarning: Objective did not converge. You might want to increase the number of iterations. Duality gap: 0.7988929852272122, tolerance: 0.6185510518518521\n",
      "  tol, rng, random, positive)\n",
      "C:\\Users\\N388\\Anaconda3\\lib\\site-packages\\sklearn\\linear_model\\coordinate_descent.py:471: ConvergenceWarning: Objective did not converge. You might want to increase the number of iterations. Duality gap: 0.8344879105179643, tolerance: 0.6185510518518521\n",
      "  tol, rng, random, positive)\n",
      "C:\\Users\\N388\\Anaconda3\\lib\\site-packages\\sklearn\\linear_model\\coordinate_descent.py:471: ConvergenceWarning: Objective did not converge. You might want to increase the number of iterations. Duality gap: 3.223298487475404, tolerance: 0.6185510518518521\n",
      "  tol, rng, random, positive)\n",
      "C:\\Users\\N388\\Anaconda3\\lib\\site-packages\\sklearn\\linear_model\\coordinate_descent.py:471: ConvergenceWarning: Objective did not converge. You might want to increase the number of iterations. Duality gap: 3.202545059005388, tolerance: 0.6174175962962966\n",
      "  tol, rng, random, positive)\n",
      "C:\\Users\\N388\\Anaconda3\\lib\\site-packages\\sklearn\\linear_model\\coordinate_descent.py:471: ConvergenceWarning: Objective did not converge. You might want to increase the number of iterations. Duality gap: 2.171360580761757, tolerance: 0.6174175962962966\n",
      "  tol, rng, random, positive)\n",
      "C:\\Users\\N388\\Anaconda3\\lib\\site-packages\\sklearn\\linear_model\\coordinate_descent.py:471: ConvergenceWarning: Objective did not converge. You might want to increase the number of iterations. Duality gap: 0.8507466585006114, tolerance: 0.6176510185185174\n",
      "  tol, rng, random, positive)\n",
      "C:\\Users\\N388\\Anaconda3\\lib\\site-packages\\sklearn\\linear_model\\coordinate_descent.py:471: ConvergenceWarning: Objective did not converge. You might want to increase the number of iterations. Duality gap: 3.6695289831350237, tolerance: 0.6176510185185174\n",
      "  tol, rng, random, positive)\n",
      "C:\\Users\\N388\\Anaconda3\\lib\\site-packages\\sklearn\\linear_model\\coordinate_descent.py:471: ConvergenceWarning: Objective did not converge. You might want to increase the number of iterations. Duality gap: 7.127460484543008, tolerance: 0.6176510185185174\n",
      "  tol, rng, random, positive)\n",
      "C:\\Users\\N388\\Anaconda3\\lib\\site-packages\\sklearn\\linear_model\\coordinate_descent.py:471: ConvergenceWarning: Objective did not converge. You might want to increase the number of iterations. Duality gap: 1.0051193427307226, tolerance: 0.6178839666666668\n",
      "  tol, rng, random, positive)\n",
      "C:\\Users\\N388\\Anaconda3\\lib\\site-packages\\sklearn\\linear_model\\coordinate_descent.py:471: ConvergenceWarning: Objective did not converge. You might want to increase the number of iterations. Duality gap: 3.574496554409052, tolerance: 0.6178839666666668\n",
      "  tol, rng, random, positive)\n",
      "C:\\Users\\N388\\Anaconda3\\lib\\site-packages\\sklearn\\linear_model\\coordinate_descent.py:471: ConvergenceWarning: Objective did not converge. You might want to increase the number of iterations. Duality gap: 7.678000181993411, tolerance: 0.6178839666666668\n",
      "  tol, rng, random, positive)\n",
      "C:\\Users\\N388\\Anaconda3\\lib\\site-packages\\sklearn\\linear_model\\coordinate_descent.py:471: ConvergenceWarning: Objective did not converge. You might want to increase the number of iterations. Duality gap: 0.9184190149881033, tolerance: 0.619271700000001\n",
      "  tol, rng, random, positive)\n",
      "C:\\Users\\N388\\Anaconda3\\lib\\site-packages\\sklearn\\linear_model\\coordinate_descent.py:471: ConvergenceWarning: Objective did not converge. You might want to increase the number of iterations. Duality gap: 1.6913647433248116, tolerance: 0.619271700000001\n",
      "  tol, rng, random, positive)\n",
      "C:\\Users\\N388\\Anaconda3\\lib\\site-packages\\sklearn\\linear_model\\coordinate_descent.py:471: ConvergenceWarning: Objective did not converge. You might want to increase the number of iterations. Duality gap: 1.8767164750724987, tolerance: 0.619271700000001\n",
      "  tol, rng, random, positive)\n",
      "C:\\Users\\N388\\Anaconda3\\lib\\site-packages\\sklearn\\linear_model\\coordinate_descent.py:471: ConvergenceWarning: Objective did not converge. You might want to increase the number of iterations. Duality gap: 5.281623625996872, tolerance: 0.619271700000001\n",
      "  tol, rng, random, positive)\n",
      "C:\\Users\\N388\\Anaconda3\\lib\\site-packages\\sklearn\\linear_model\\coordinate_descent.py:471: ConvergenceWarning: Objective did not converge. You might want to increase the number of iterations. Duality gap: 3.606959692554483, tolerance: 0.619271700000001\n",
      "  tol, rng, random, positive)\n",
      "C:\\Users\\N388\\Anaconda3\\lib\\site-packages\\sklearn\\linear_model\\coordinate_descent.py:471: ConvergenceWarning: Objective did not converge. You might want to increase the number of iterations. Duality gap: 3.494363834603064, tolerance: 0.6189839962962943\n",
      "  tol, rng, random, positive)\n",
      "C:\\Users\\N388\\Anaconda3\\lib\\site-packages\\sklearn\\linear_model\\coordinate_descent.py:471: ConvergenceWarning: Objective did not converge. You might want to increase the number of iterations. Duality gap: 7.142393717249433, tolerance: 0.6189839962962943\n",
      "  tol, rng, random, positive)\n",
      "C:\\Users\\N388\\Anaconda3\\lib\\site-packages\\sklearn\\linear_model\\coordinate_descent.py:471: ConvergenceWarning: Objective did not converge. You might want to increase the number of iterations. Duality gap: 2.7259216875463608, tolerance: 0.6188975407407428\n",
      "  tol, rng, random, positive)\n",
      "C:\\Users\\N388\\Anaconda3\\lib\\site-packages\\sklearn\\linear_model\\coordinate_descent.py:471: ConvergenceWarning: Objective did not converge. You might want to increase the number of iterations. Duality gap: 6.2653400340386725, tolerance: 0.6188975407407428\n",
      "  tol, rng, random, positive)\n",
      "C:\\Users\\N388\\Anaconda3\\lib\\site-packages\\sklearn\\linear_model\\coordinate_descent.py:471: ConvergenceWarning: Objective did not converge. You might want to increase the number of iterations. Duality gap: 9.867164012946887, tolerance: 0.6188975407407428\n",
      "  tol, rng, random, positive)\n",
      "C:\\Users\\N388\\Anaconda3\\lib\\site-packages\\sklearn\\linear_model\\coordinate_descent.py:471: ConvergenceWarning: Objective did not converge. You might want to increase the number of iterations. Duality gap: 3.3984879193676534, tolerance: 0.6175927074074069\n",
      "  tol, rng, random, positive)\n",
      "C:\\Users\\N388\\Anaconda3\\lib\\site-packages\\sklearn\\linear_model\\coordinate_descent.py:471: ConvergenceWarning: Objective did not converge. You might want to increase the number of iterations. Duality gap: 6.970886740916285, tolerance: 0.6175927074074069\n",
      "  tol, rng, random, positive)\n"
     ]
    },
    {
     "data": {
      "text/plain": [
       "SelectFromModel(estimator=LassoCV(alphas=None, copy_X=True, cv=10, eps=0.001,\n",
       "                                  fit_intercept=True, max_iter=1000,\n",
       "                                  n_alphas=100, n_jobs=None, normalize=True,\n",
       "                                  positive=False, precompute='auto',\n",
       "                                  random_state=None, selection='cyclic',\n",
       "                                  tol=0.0001, verbose=False),\n",
       "                max_features=None, norm_order=1, prefit=False, threshold=1e-05)"
      ]
     },
     "execution_count": 50,
     "metadata": {},
     "output_type": "execute_result"
    }
   ],
   "source": [
    "# LassoCVを使って、正則化の強さを自動決定したモデル（estimator）を作成\n",
    "estimator = LassoCV(normalize=True, cv=10)\n",
    "\n",
    "# モデルの情報を使って特徴選択を行うためSelectFromModelを使う\n",
    "# 今回は係数がしきい値（threshold）が1e-5以下である特徴を削除する\n",
    "sfm = SelectFromModel(estimator, threshold=1e-5)\n",
    "\n",
    "# fitで特徴選択を実行\n",
    "sfm.fit(X_train, y_train)"
   ]
  },
  {
   "cell_type": "code",
   "execution_count": 60,
   "metadata": {},
   "outputs": [
    {
     "data": {
      "text/plain": [
       "array([False, False, False, False, False, False, False, False, False,\n",
       "       False, False, False,  True, False, False, False, False, False,\n",
       "       False,  True, False, False, False, False,  True, False,  True,\n",
       "       False, False,  True, False, False, False,  True, False, False,\n",
       "       False,  True,  True, False, False, False, False, False, False,\n",
       "        True, False, False, False,  True, False, False,  True, False,\n",
       "       False,  True, False, False,  True, False,  True, False, False,\n",
       "       False, False,  True, False, False, False, False, False, False,\n",
       "       False, False, False, False,  True, False, False, False, False,\n",
       "        True, False, False, False,  True,  True, False, False,  True,\n",
       "        True,  True, False, False, False, False,  True, False, False,\n",
       "       False, False, False, False, False,  True, False, False, False,\n",
       "        True,  True, False, False,  True, False, False, False, False,\n",
       "        True,  True, False, False, False, False, False,  True, False,\n",
       "       False, False,  True, False,  True, False,  True, False, False,\n",
       "        True, False,  True, False, False,  True, False,  True, False,\n",
       "       False,  True, False, False, False,  True,  True, False,  True,\n",
       "       False,  True, False, False, False, False, False, False, False,\n",
       "       False, False, False,  True, False,  True, False, False,  True,\n",
       "        True, False, False, False, False,  True, False, False, False,\n",
       "        True, False, False,  True, False,  True,  True, False, False,\n",
       "        True,  True,  True,  True,  True,  True,  True, False, False,\n",
       "        True, False, False,  True, False,  True,  True,  True, False,\n",
       "        True,  True, False])"
      ]
     },
     "execution_count": 60,
     "metadata": {},
     "output_type": "execute_result"
    }
   ],
   "source": [
    "# 削除すべき特徴の名前を取得 \n",
    "removed_idx = ~sfm.get_support()\n",
    "removed_idx"
   ]
  },
  {
   "cell_type": "code",
   "execution_count": 62,
   "metadata": {},
   "outputs": [],
   "source": [
    "X = pd.get_dummies(df[x_cols])#drop_first=True"
   ]
  },
  {
   "cell_type": "code",
   "execution_count": 63,
   "metadata": {},
   "outputs": [
    {
     "data": {
      "text/plain": [
       "Index(['category_Audio', 'category_Children's Books', 'category_Comedy',\n",
       "       'category_Comics', 'category_Cookbooks', 'category_Crochet',\n",
       "       'category_Design', 'category_Digital Art', 'category_Experimental',\n",
       "       'category_Fantasy', 'category_Fashion', 'category_Film & Video',\n",
       "       'category_Food', 'category_Footwear', 'category_Graphic Design',\n",
       "       'category_Jewelry', 'category_Letterpress', 'category_Makerspaces',\n",
       "       'category_Metal', 'category_Movie Theaters', 'category_Music',\n",
       "       'category_Music Videos', 'category_Painting', 'category_Photography',\n",
       "       'category_Poetry', 'category_Pop', 'category_Printing',\n",
       "       'category_Puzzles', 'category_Quilts', 'category_Robots',\n",
       "       'category_Sculpture', 'category_Small Batch', 'category_Sound',\n",
       "       'category_Stationery', 'category_Taxidermy', 'category_Textiles',\n",
       "       'category_Thrillers', 'category_Vegan', 'category_Wearables',\n",
       "       'category_Weaving', 'category_Webcomics', 'category_Woodworking',\n",
       "       'main_category_Film & Video', 'main_category_Games',\n",
       "       'main_category_Photography', 'main_category_Publishing', 'currency_CHF',\n",
       "       'currency_HKD', 'currency_NOK', 'currency_SEK', 'currency_SGD',\n",
       "       'country_AU', 'country_BE', 'country_CA', 'country_CH', 'country_DE',\n",
       "       'country_DK', 'country_ES', 'country_HK', 'country_JP', 'country_MX',\n",
       "       'country_NL', 'country_NO', 'country_SE', 'country_SG'],\n",
       "      dtype='object')"
      ]
     },
     "execution_count": 63,
     "metadata": {},
     "output_type": "execute_result"
    }
   ],
   "source": [
    "X.columns[removed_idx] "
   ]
  },
  {
   "cell_type": "code",
   "execution_count": null,
   "metadata": {},
   "outputs": [],
   "source": []
  }
 ],
 "metadata": {
  "kernelspec": {
   "display_name": "Python 3",
   "language": "python",
   "name": "python3"
  },
  "language_info": {
   "codemirror_mode": {
    "name": "ipython",
    "version": 3
   },
   "file_extension": ".py",
   "mimetype": "text/x-python",
   "name": "python",
   "nbconvert_exporter": "python",
   "pygments_lexer": "ipython3",
   "version": "3.7.3"
  }
 },
 "nbformat": 4,
 "nbformat_minor": 2
}
